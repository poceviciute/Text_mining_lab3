{
 "cells": [
  {
   "cell_type": "markdown",
   "metadata": {},
   "source": [
    "# L3: Topic Models\n",
    "### 732A92/TDDE16 Text Mining\n",
    "Students: fanka300, milpo192"
   ]
  },
  {
   "cell_type": "markdown",
   "metadata": {},
   "source": [
    "The purpose of this lab is to implement the standard Gibbs sampling algorithm for Latent Dirichlet Allocation in Python. You will be supplied starter code, a smaller corpus with State of the Union addresses for the period 1975 to 2000 by paragraph and a list with English stop words. The code is implemented as a class, `LDAGibbs`, where you are expected to replace central parts of the code with your own implementations."
   ]
  },
  {
   "cell_type": "markdown",
   "metadata": {},
   "source": [
    "### 1. Sampling\n",
    "\n",
    "Implement the basic collapsed Gibbs sampling algorithm for Latent Dirichlet Allocation. Use the starter code and add the components that is missing (the sampler part). We use the fact that \n",
    "\n",
    "$$p(z_{i}=k)\\propto\\left(\\alpha+n_{d,k}^{(d)}\\right)\\frac{\\left(\\beta+n_{k,w_{i}}^{(w)}\\right)}{\\sum^{V}\\left(\\beta+n_{k,w_{i}}^{(w)}\\right)}=\\left(\\alpha+n_{d,k}^{(d)}\\right)\\frac{\\left(\\beta+n_{k,w_{i}}^{(w)}\\right)}{V\\beta+n_{k}}$$\n",
    "\n",
    "to simplify computations, where $K$ is the number of topics, $V$ is the vocabulary size and $D$ is the number of documents. $\\mathbf{n}^{(d)}$ is a count matrix of size $D\\times K$ with the number of topic indicators by document, $d$, and topic $k$, $\\mathbf{n}^{(w)}$ is a count matrix of size $K\\times V$ with the number of topic indicators by topic, $k$, and word type, $w$. $\\mathbf{n}$ is a topic indicator count vector of length $K$ that contain the number of topic indicators in each topic. The detailed algorithm can be found below:"
   ]
  },
  {
   "cell_type": "markdown",
   "metadata": {},
   "source": [
    "__Data:__ tokenized corpus $\\mathbf{w}$, priors $\\alpha, \\beta$ <br>\n",
    "__Result:__ topic indicators $\\mathbf{z}$\n",
    "\n",
    "Init topic indicators $\\mathbf{z}$ randomly per token<br>\n",
    "Init topic probability vector $\\mathbf{p}$<br>\n",
    "Init $\\mathbf{n}^{w}$, the topic type count matrix of size ($K \\times V$) with respect to $\\mathbf{z}$<br>\n",
    "Init $\\mathbf{n}^{d}$, the document topic count matrix of size ($D \\times K$) with respect to $\\mathbf{z}$<br>\n",
    "Init $\\mathbf{n}$, the topic count vector of length ($K$) with respect to $\\mathbf{z}$<br>\n",
    "\n",
    "for $g \\leftarrow 1$ __to__ _num_\\__iterations_ __do__<br>\n",
    "&emsp;&emsp;// Iterate over all tokens<br>\n",
    "&emsp;&emsp;for $i \\leftarrow 1$ __to__ $N$ __do__<br>\n",
    "&emsp;&emsp;&emsp;&emsp;// Remove current topic indicator $z_i$ from $\\mathbf{n}^{w}$, $\\mathbf{n}^{d}$ and $\\mathbf{n}$<br>\n",
    "&emsp;&emsp;&emsp;&emsp;$n^{(w)}_{z_i,w_i}$ -= 1, $n^{(d)}_{d_i,z_i}$ -= 1, $n_{z_i}$ -= 1<br>\n",
    "&emsp;&emsp;&emsp;&emsp;for $k \\leftarrow 1$ __to__ $K$ __do__<br>\n",
    "&emsp;&emsp;&emsp;&emsp;&emsp;&emsp;// Compute the unnormalized probability of each topic indicator<br>\n",
    "&emsp;&emsp;&emsp;&emsp;&emsp;&emsp;$\\mathbf{p}_k \\leftarrow \\left(\\alpha+n_{d,k}^{(d)}\\right)\\frac{\\left(\\beta+n_{k,w_{i}}^{(w)}\\right)}{\\left(V\\beta+n_{k}\\right)}$<br>\n",
    "&emsp;&emsp;&emsp;&emsp;__end__<br>\n",
    "&emsp;&emsp;&emsp;&emsp;// Sample the topic indicator<br>\n",
    "&emsp;&emsp;&emsp;&emsp;$z_i \\leftarrow $ Categorical($\\mathbf{p}$)<br>\n",
    "&emsp;&emsp;&emsp;&emsp;// Add the new topic indicator $z_i$ to $\\mathbf{n}^{w}$, $\\mathbf{n}^{d}$ and $\\mathbf{n}$<br>\n",
    "&emsp;&emsp;&emsp;&emsp;$n^{(w)}_{z_i,w_i}$ += 1, $n^{(d)}_{d_i,z_i}$ += 1, $n_{z_i}$ += 1<br>\n",
    "&emsp;&emsp;__end__<br>\n",
    "__end__"
   ]
  },
  {
   "cell_type": "markdown",
   "metadata": {},
   "source": [
    "For a complete derivation of the collapsed Gibbs sampler for LDA, see https://lingpipe.files.wordpress.com/2010/07/lda3.pdf."
   ]
  },
  {
   "cell_type": "code",
   "execution_count": 2,
   "metadata": {},
   "outputs": [],
   "source": [
    "import numpy, random, scipy.special\n",
    "from tm3 import LDAGibbs\n",
    "import matplotlib.pyplot as plt\n",
    "random.seed(12345)\n",
    "\n",
    "class MyGibbs(LDAGibbs):\n",
    "        \n",
    "    def __init__(self, num_topics, docs_file_name, stop_list_file_name = None):\n",
    "        self.num_topics = num_topics\n",
    "        self.num_docs = 0\n",
    "        self.docs = []\n",
    "        ## Prepare set of stop words\n",
    "        self.stop_words = set()\n",
    "        if stop_list_file_name != None:\n",
    "            with open(stop_list_file_name) as f:\n",
    "                for line in f:\n",
    "                    word = line.rstrip()\n",
    "                    self.stop_words.add(word)\n",
    "        self.read_documents(docs_file_name)\n",
    "        self.initialize_matrices()\n",
    "        self.total_tokens = sum(self.doc_totals)\n",
    "            \n",
    "    def read_documents(self, filename):\n",
    "        \"\"\"Reads documents from a file, filters stop words and initializes\n",
    "        the vocabulary. Also converts tokens to integer term IDs.\"\"\"\n",
    "        self.vocab = []\n",
    "        self.vocab_ids = {}\n",
    "        with open(filename) as f:\n",
    "            for line in f:\n",
    "                line = line.replace(\".\", \" \").replace(\",\", \" \").lower()\n",
    "                self.num_docs += 1\n",
    "                tokens = []\n",
    "                for w in line.split():\n",
    "                    if not w in self.stop_words:\n",
    "                        if w in self.vocab_ids:\n",
    "                            tokens.append(self.vocab_ids[w])\n",
    "                        else:\n",
    "                            term_id = len(self.vocab)\n",
    "                            self.vocab.append(w)\n",
    "                            self.vocab_ids[w] = term_id\n",
    "                            tokens.append(term_id)\n",
    "                self.docs.append({ 'tokens': tokens })\n",
    "        self.num_terms = len(self.vocab)\n",
    "        print(\"Read {} documents with a total of {} terms\".format(self.num_docs, self.num_terms))\n",
    "        \n",
    "    def initialize_matrices(self):\n",
    "        \"\"\"Initializes numpy arrays for the matrix computations performed\n",
    "        by the sampler during the MCMC process.\"\"\"\n",
    "        ## Set up numpy matrices\n",
    "        self.term_topics = numpy.zeros((self.num_terms, self.num_topics)) # n^w\n",
    "        self.doc_topics = numpy.zeros((self.num_docs, self.num_topics)) # n^d\n",
    "        self.topic_totals = numpy.zeros(self.num_topics) # n\n",
    "        self.doc_totals = numpy.zeros(self.num_docs)\n",
    "        ## Initialize topics randomly\n",
    "        for doc_id in range(self.num_docs):\n",
    "            doc = self.docs[doc_id]\n",
    "            ## Create an array of random topic assignments\n",
    "            doc['topics'] = [random.randrange(self.num_topics) for token in doc['tokens']]\n",
    "            ## Construct the initial summary statistics\n",
    "            doc_length = len(doc['tokens'])\n",
    "            for token, topic in zip(doc['tokens'], doc['topics']):\n",
    "                self.term_topics[token][topic] += 1 # n_wk\n",
    "                self.doc_topics[doc_id][topic] += 1 # n_dk\n",
    "                self.topic_totals[topic] += 1       # n_k\n",
    "                self.doc_totals[doc_id] += 1\n",
    "        ## Printout to check that everything is coherent\n",
    "        #print(sum(sum(self.doc_topics)))\n",
    "        #print(sum(sum(self.term_topics)))\n",
    "        #print(sum(self.topic_totals))\n",
    "        #print(sum(self.doc_totals))\n",
    "        \n",
    "    def run(self, num_iterations = 50, alpha = 0.1, beta = 0.01):\n",
    "        self.num_iterations = num_iterations\n",
    "        self.logprobs = []\n",
    "        for iteration in range(num_iterations):\n",
    "            self.make_draw(alpha, beta)\n",
    "            logprob = self.compute_logprob(alpha, beta)\n",
    "            self.logprobs.append(logprob)\n",
    "            print(\"iteration {}, {}\".format(iteration, logprob))\n",
    "            \n",
    "    def make_draw(self, alpha, beta):\n",
    "        ## TODO: implement this function for exercise 1\n",
    "        V = len(self.vocab)\n",
    "        for doc_id in range(self.num_docs):\n",
    "            doc = self.docs[doc_id]\n",
    "            #Some docs are empty:\n",
    "            if not doc['tokens'] or not doc['topics']:\n",
    "                continue     \n",
    "            prob_k = numpy.zeros(self.num_topics)\n",
    "            for j, (token, topic) in enumerate(zip(doc['tokens'], doc['topics'])):\n",
    "                self.term_topics[token][topic] -= 1 # n_wk\n",
    "                self.doc_topics[doc_id][topic] -= 1 # n_dk\n",
    "                self.topic_totals[topic]-= 1       # n_k\n",
    "                for topic2 in range(self.num_topics):\n",
    "                    ndk = max(0,self.doc_topics[doc_id][topic2])\n",
    "                    nkw = max(0,self.term_topics[token][topic2])\n",
    "                    nk = max(0,self.topic_totals[topic2])\n",
    "                    prob_k[topic2] = (alpha + ndk)*(beta + nkw)/(V*beta + nk)           \n",
    "                num = int(self.num_topics) \n",
    "                num = range(num)\n",
    "                prob_k = prob_k / sum(prob_k)\n",
    "                z = int(numpy.random.choice(a=num,size=1,p=prob_k))\n",
    "                self.term_topics[token][z] += 1 # n_wk\n",
    "                self.doc_topics[doc_id][z] += 1 # n_dk\n",
    "                self.topic_totals[z] += 1  \n",
    "                doc['topics'][j] = z\n",
    "                self.docs[doc_id] = doc\n",
    "        #return super().make_draw(alpha, beta)\n",
    "             \n",
    "    def print_topics(self, j):\n",
    "        ## TODO: implement this function for exercise 2\n",
    "        for topic in range(self.num_topics):\n",
    "            rows = self.term_topics[:,topic]\n",
    "            rows_sort = numpy.sort(rows)[::-1]\n",
    "            rows_ind = numpy.argsort(rows)[::-1]\n",
    "            mylist = []\n",
    "            for i in range(j):\n",
    "                mylist.append((self.vocab[rows_ind[i]],rows_sort[i]))\n",
    "            print(mylist)\n",
    "    \n",
    "    def plot(self):\n",
    "        ## TODO: implement this function for exercise 3\n",
    "        diff = 1\n",
    "        self.logprobs2 = [0,]\n",
    "        alpha = 0.1\n",
    "        beta = 0.01\n",
    "        while diff > 0.00001:\n",
    "            self.make_draw(alpha, beta)\n",
    "            logprob = self.compute_logprob(alpha, beta)\n",
    "            self.logprobs2.append(logprob)\n",
    "            diff = abs(self.logprobs2[-1] - self.logprobs2[-2])\n",
    "        y=self.logprobs2[1:]\n",
    "        x=range(len(y))\n",
    "        print(\"Total iterations\", len(y))\n",
    "        plt.plot(x,y)\n",
    "        #super().plot()            \n",
    "    \n",
    "    def compute_logprob(self, alpha, beta):\n",
    "        ## TODO: implement this function for the bonus exercise\n",
    "        return super().compute_logprob(alpha, beta)"
   ]
  },
  {
   "cell_type": "markdown",
   "metadata": {},
   "source": [
    "Implement the `make_draw` function above. You should get behavior very similar to the results from calling the parent class."
   ]
  },
  {
   "cell_type": "code",
   "execution_count": 3,
   "metadata": {
    "scrolled": true
   },
   "outputs": [
    {
     "name": "stdout",
     "output_type": "stream",
     "text": [
      "Read 2898 documents with a total of 8695 terms\n",
      "iteration 0, -10.369938318862618\n",
      "iteration 1, -9.831967752279372\n",
      "iteration 2, -9.561700400554749\n",
      "iteration 3, -9.40005059306579\n",
      "iteration 4, -9.27660953310218\n",
      "iteration 5, -9.182245957778287\n",
      "iteration 6, -9.108100217970685\n",
      "iteration 7, -9.044728749052085\n",
      "iteration 8, -8.994064564704564\n",
      "iteration 9, -8.946403444326654\n"
     ]
    }
   ],
   "source": [
    "num_topics = 10\n",
    "num_iterations = 10\n",
    "\n",
    "model = MyGibbs(num_topics, 'sotu_1975_2000.txt', 'stoplist_en.txt')\n",
    "model.run(num_iterations)"
   ]
  },
  {
   "cell_type": "markdown",
   "metadata": {},
   "source": [
    "### 2. Top terms\n",
    "Implement the `print_topics` function to extract the top `j` largest counts in $n(w)$ by row. This is the most probable word types in each topic."
   ]
  },
  {
   "cell_type": "code",
   "execution_count": 4,
   "metadata": {},
   "outputs": [
    {
     "name": "stdout",
     "output_type": "stream",
     "text": [
      "[('congress', 146.0), ('year', 110.0), ('government', 95.0), ('president', 65.0), ('programs', 64.0), ('federal', 57.0), ('mr', 57.0), ('energy', 48.0), ('house', 48.0), ('members', 48.0)]\n",
      "[('world', 219.0), ('soviet', 122.0), ('states', 119.0), ('united', 111.0), ('nuclear', 106.0), ('peace', 103.0), ('union', 81.0), ('nations', 81.0), ('war', 79.0), ('international', 73.0)]\n",
      "[('federal', 171.0), ('government', 98.0), ('budget', 93.0), ('years', 90.0), ('percent', 88.0), ('tax', 87.0), ('billion', 81.0), ('year', 76.0), ('spending', 75.0), ('national', 71.0)]\n",
      "[('people', 135.0), ('america', 132.0), ('freedom', 70.0), ('american', 61.0), ('world', 59.0), ('country', 54.0), ('congress', 53.0), ('americans', 52.0), ('opportunity', 50.0), ('years', 49.0)]\n",
      "[('years', 113.0), ('government', 103.0), ('health', 88.0), ('care', 86.0), ('make', 80.0), ('budget', 77.0), ('tax', 72.0), ('american', 67.0), ('system', 66.0), ('people', 63.0)]\n",
      "[('trade', 102.0), ('world', 93.0), ('free', 68.0), ('strong', 64.0), ('american', 60.0), ('technology', 59.0), ('congress', 51.0), ('economic', 48.0), ('home', 43.0), ('security', 43.0)]\n",
      "[('continue', 78.0), ('program', 73.0), ('economic', 65.0), ('economy', 64.0), ('nation', 63.0), ('act', 55.0), ('progress', 48.0), ('energy', 46.0), ('people', 43.0), ('action', 43.0)]\n",
      "[('america', 166.0), ('people', 112.0), ('work', 99.0), ('americans', 97.0), ('world', 87.0), ('american', 69.0), ('country', 67.0), ('ve', 67.0), ('children', 65.0), ('future', 61.0)]\n",
      "[('people', 85.0), ('welfare', 75.0), ('system', 70.0), ('work', 68.0), ('administration', 47.0), ('american', 47.0), ('time', 45.0), ('states', 44.0), ('education', 41.0), ('nation', 41.0)]\n",
      "[('children', 184.0), ('year', 106.0), ('people', 99.0), ('child', 89.0), ('work', 87.0), ('health', 85.0), ('americans', 83.0), ('parents', 79.0), ('care', 78.0), ('families', 76.0)]\n"
     ]
    }
   ],
   "source": [
    "model.print_topics(10)"
   ]
  },
  {
   "cell_type": "markdown",
   "metadata": {},
   "source": [
    "### 3. Explore the data\n",
    "\n",
    "Run your implemention on the State of the Union corpus until convergence with 10 topics, don't forget to remove stop words. Plot the log marginal posterior by the number of iterations. How many iterations do you need until convergence? How do you interpret the topics?\n",
    "\n",
    "[Hint: You can use the plot-function to print the marginal probability for each iteration. To get it working in Jupyter you need to run the command `%matplotlib inline` before plotting the first time.]"
   ]
  },
  {
   "cell_type": "code",
   "execution_count": 5,
   "metadata": {},
   "outputs": [
    {
     "name": "stdout",
     "output_type": "stream",
     "text": [
      "Read 2898 documents with a total of 8695 terms\n",
      "Total iterations 505\n"
     ]
    },
    {
     "data": {
      "image/png": "[encoded data removed]",
      "text/plain": [
       "<matplotlib.figure.Figure at 0x7f811889a470>"
      ]
     },
     "metadata": {},
     "output_type": "display_data"
    }
   ],
   "source": [
    "%matplotlib inline\n",
    "num_topics = 10\n",
    "#num_iterations = 5\n",
    "\n",
    "model = MyGibbs(num_topics, 'sotu_1975_2000.txt', 'stoplist_en.txt')\n",
    "model.plot()"
   ]
  },
  {
   "cell_type": "code",
   "execution_count": 6,
   "metadata": {},
   "outputs": [
    {
     "name": "stdout",
     "output_type": "stream",
     "text": [
      "[('budget', 219.0), ('year', 195.0), ('years', 185.0), ('tax', 158.0), ('percent', 152.0), ('billion', 139.0), ('spending', 135.0), ('federal', 134.0), ('million', 118.0), ('cut', 102.0)]\n",
      "[('federal', 163.0), ('congress', 154.0), ('government', 136.0), ('programs', 104.0), ('states', 83.0), ('legislation', 80.0), ('administration', 73.0), ('local', 58.0), ('state', 57.0), ('rights', 57.0)]\n",
      "[('children', 181.0), ('education', 100.0), ('schools', 96.0), ('school', 87.0), ('crime', 72.0), ('year', 64.0), ('parents', 59.0), ('college', 58.0), ('make', 56.0), ('space', 52.0)]\n",
      "[('america', 235.0), ('world', 158.0), ('people', 134.0), ('years', 124.0), ('tonight', 119.0), ('american', 112.0), ('today', 101.0), ('century', 100.0), ('time', 94.0), ('union', 94.0)]\n",
      "[('jobs', 121.0), ('private', 94.0), ('people', 87.0), ('economic', 83.0), ('government', 75.0), ('economy', 73.0), ('business', 70.0), ('american', 60.0), ('investment', 60.0), ('community', 59.0)]\n",
      "[('trade', 116.0), ('economic', 90.0), ('world', 88.0), ('foreign', 74.0), ('policy', 73.0), ('states', 72.0), ('international', 71.0), ('united', 69.0), ('major', 55.0), ('countries', 53.0)]\n",
      "[('world', 182.0), ('soviet', 153.0), ('peace', 144.0), ('security', 133.0), ('nuclear', 129.0), ('forces', 107.0), ('nations', 105.0), ('military', 105.0), ('united', 89.0), ('defense', 86.0)]\n",
      "[('energy', 163.0), ('program', 91.0), ('administration', 90.0), ('national', 85.0), ('social', 73.0), ('congress', 68.0), ('security', 58.0), ('policy', 58.0), ('environment', 52.0), ('system', 49.0)]\n",
      "[('america', 223.0), ('people', 187.0), ('american', 124.0), ('human', 112.0), ('freedom', 98.0), ('nation', 96.0), ('future', 93.0), ('world', 88.0), ('government', 88.0), ('country', 86.0)]\n",
      "[('health', 189.0), ('care', 176.0), ('work', 167.0), ('people', 158.0), ('congress', 143.0), ('welfare', 123.0), ('year', 113.0), ('families', 113.0), ('americans', 107.0), ('make', 92.0)]\n"
     ]
    }
   ],
   "source": [
    "model.print_topics(10)"
   ]
  },
  {
   "cell_type": "markdown",
   "metadata": {},
   "source": [
    "#### Answer here:\n",
    "\n",
    "We chose a criterion for measuring the loglikelihood convergence to be the difference of loglikelihoods between consecutive iterations. More percisely, this difference should be below 0.00001. It took 505 iterations to reach it.\n",
    "\n",
    "From the words that belong to each topic, we decided that topics could be:\n",
    "1.  American federal budget\n",
    "1.  American legislation\n",
    "1.  Education\n",
    "1.  Some historical perspective\n",
    "1.  Jobs and business\n",
    "1.  Foreign trade\n",
    "1.  Cold war\n",
    "1.  Energy and environment\n",
    "1.  Future of America\n",
    "1.  Healthcare"
   ]
  },
  {
   "cell_type": "markdown",
   "metadata": {},
   "source": [
    "### 4. Simulate a new State of the Union speech\n",
    "\n",
    "Write a function `new_speech` using the `MyGibbs` class to use the estimated values for $\\Phi$ from your model (with stop words removed) to simulate a new State of the Union speech. Start out by simulating $\\theta_d \\sim Dir(\\alpha = 0.5)$ and then simulate your document. Does it make sense? Why, why not?"
   ]
  },
  {
   "cell_type": "code",
   "execution_count": 7,
   "metadata": {},
   "outputs": [],
   "source": [
    "def new_speech(model, alpha, num_words):\n",
    "    speech = []\n",
    "    theta_d = numpy.random.dirichlet(numpy.repeat(alpha, model.num_topics))\n",
    "    for i in range(num_words):\n",
    "        topic = numpy.random.choice(a=model.num_topics,size=1,p=theta_d)\n",
    "        token_prob = model.term_topics[:,topic]\n",
    "        prob = token_prob/sum(token_prob)\n",
    "        prob = [val for sublist in prob for val in sublist]\n",
    "        word = numpy.random.choice(a=len(model.vocab),size=1,p=prob)\n",
    "        speech.append(model.vocab[int(word)])\n",
    "    return \" \".join(speech)"
   ]
  },
  {
   "cell_type": "code",
   "execution_count": 8,
   "metadata": {},
   "outputs": [
    {
     "data": {
      "text/plain": [
       "'jobs thing engineer years provided employment creating jobs back private star materials support sector save aid means engine invest build years carpenters sitting distressed ve tremendous private sector speech nation leaves represented job institutional neighborhoods quotas oil healthy ll branched trade airline sector investment trade end power approach seek future budget america sunrise restore world small hospital welfare markets save traders treatment businesses competitive end ve prevail disadvantaged workers cold choose future century seek developing removed works american closed monuments stepped created talented supply vital equitable congestion audit declined tax technological assumptions million spur ladder day business temporary expanded prices'"
      ]
     },
     "execution_count": 8,
     "metadata": {},
     "output_type": "execute_result"
    }
   ],
   "source": [
    "new_speech(model, 0.5, 100)"
   ]
  },
  {
   "cell_type": "markdown",
   "metadata": {},
   "source": [
    "#### Answer here:\n",
    "\n",
    "The speech does not make sense because we do not have stopwords and it is difficult to make a reasonable text without them. We also don't use any information about what the previous word(s) or topic were. Hence, the context is not taken into consideration when generating the speech. "
   ]
  },
  {
   "cell_type": "markdown",
   "metadata": {},
   "source": [
    "### Bonus assignment:\n",
    "\n",
    "To get better understanding how to implement the underlying model or similar models, you might want to implement your own function to compute the log marginal posterior. If so, implement the `compute_logprob` function.\n",
    "\n",
    "$$\\begin{align}\n",
    "\\log p(\\mathbf{z}|\\mathbf{w}) =& \\log\\prod^{K}p(\\mathbf{w}|\\mathbf{z},\\beta)\\prod^{D}p(\\mathbf{z}|\\alpha) \\\\\n",
    "=& \\sum^{K}\\log\\left[\\frac{\\Gamma\\left(\\sum^{V}\\beta\\right)}{\\prod^{V}\\Gamma\\left(\\beta\\right)}\\frac{\\prod^{V}\\Gamma\\left(n_{kv}^{(w)}+\\beta\\right)}{\\Gamma(\\sum^{V}n_{kv}^{(w)}+\\beta)}\\right]+\\sum^{D}\\log\\left[\\frac{\\Gamma\\left(\\sum^{K}\\alpha\\right)}{\\prod^{K}\\Gamma\\left(\\alpha\\right)}\\frac{\\prod^{K}\\Gamma\\left(n_{dk}^{(d)}+\\alpha\\right)}{\\Gamma(\\sum^{K}n_{dk}^{(d)}+\\alpha)}\\right] \\\\\n",
    "=& K\\log\\Gamma\\left(V\\beta\\right)-KV\\log\\Gamma\\left(\\beta\\right)+\\sum^{K}\\sum^{V}\\log\\Gamma\\left(n_{kv}^{(w)}+\\beta\\right)-\\sum^{K}\\log\\Gamma(\\sum^{V}n_{kv}^{(w)}+\\beta)\\\\\n",
    "&+ D\\log\\Gamma\\left(K\\alpha\\right)-DK\\log\\Gamma\\left(\\alpha\\right)+\\sum^{D}\\sum^{K}\\log\\Gamma\\left(n_{dk}^{(d)}+\\alpha\\right)-\\sum^{D}\\log\\Gamma(\\sum^{K}n_{dk}^{(d)}+\\alpha)\n",
    "\\end{align}$$\n",
    "\n",
    "In Python, use `scipy.special.gammaln` for $\\log\\Gamma(x)$ (if you run into problems, you might try `math.lgamma` instead)."
   ]
  }
 ],
 "metadata": {
  "kernelspec": {
   "display_name": "Python 3",
   "language": "python",
   "name": "python3"
  },
  "language_info": {
   "codemirror_mode": {
    "name": "ipython",
    "version": 3
   },
   "file_extension": ".py",
   "mimetype": "text/x-python",
   "name": "python",
   "nbconvert_exporter": "python",
   "pygments_lexer": "ipython3",
   "version": "3.4.3"
  },
  "latex_envs": {
   "bibliofile": "biblio.bib",
   "cite_by": "apalike",
   "current_citInitial": 1,
   "eqLabelWithNumbers": true,
   "eqNumInitial": 0
  }
 },
 "nbformat": 4,
 "nbformat_minor": 2
}
