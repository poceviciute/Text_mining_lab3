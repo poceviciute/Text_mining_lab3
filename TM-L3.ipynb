{
 "cells": [
  {
   "cell_type": "markdown",
   "metadata": {},
   "source": [
    "# L3: Topic Models\n",
    "### 732A92/TDDE16 Text Mining\n",
    "Students: fanka300, milpo192"
   ]
  },
  {
   "cell_type": "markdown",
   "metadata": {},
   "source": [
    "The purpose of this lab is to implement the standard Gibbs sampling algorithm for Latent Dirichlet Allocation in Python. You will be supplied starter code, a smaller corpus with State of the Union addresses for the period 1975 to 2000 by paragraph and a list with English stop words. The code is implemented as a class, `LDAGibbs`, where you are expected to replace central parts of the code with your own implementations."
   ]
  },
  {
   "cell_type": "markdown",
   "metadata": {},
   "source": [
    "### 1. Sampling\n",
    "\n",
    "Implement the basic collapsed Gibbs sampling algorithm for Latent Dirichlet Allocation. Use the starter code and add the components that is missing (the sampler part). We use the fact that \n",
    "\n",
    "$$p(z_{i}=k)\\propto\\left(\\alpha+n_{d,k}^{(d)}\\right)\\frac{\\left(\\beta+n_{k,w_{i}}^{(w)}\\right)}{\\sum^{V}\\left(\\beta+n_{k,w_{i}}^{(w)}\\right)}=\\left(\\alpha+n_{d,k}^{(d)}\\right)\\frac{\\left(\\beta+n_{k,w_{i}}^{(w)}\\right)}{V\\beta+n_{k}}$$\n",
    "\n",
    "to simplify computations, where $K$ is the number of topics, $V$ is the vocabulary size and $D$ is the number of documents. $\\mathbf{n}^{(d)}$ is a count matrix of size $D\\times K$ with the number of topic indicators by document, $d$, and topic $k$, $\\mathbf{n}^{(w)}$ is a count matrix of size $K\\times V$ with the number of topic indicators by topic, $k$, and word type, $w$. $\\mathbf{n}$ is a topic indicator count vector of length $K$ that contain the number of topic indicators in each topic. The detailed algorithm can be found below:"
   ]
  },
  {
   "cell_type": "markdown",
   "metadata": {},
   "source": [
    "__Data:__ tokenized corpus $\\mathbf{w}$, priors $\\alpha, \\beta$ <br>\n",
    "__Result:__ topic indicators $\\mathbf{z}$\n",
    "\n",
    "Init topic indicators $\\mathbf{z}$ randomly per token<br>\n",
    "Init topic probability vector $\\mathbf{p}$<br>\n",
    "Init $\\mathbf{n}^{w}$, the topic type count matrix of size ($K \\times V$) with respect to $\\mathbf{z}$<br>\n",
    "Init $\\mathbf{n}^{d}$, the document topic count matrix of size ($D \\times K$) with respect to $\\mathbf{z}$<br>\n",
    "Init $\\mathbf{n}$, the topic count vector of length ($K$) with respect to $\\mathbf{z}$<br>\n",
    "\n",
    "for $g \\leftarrow 1$ __to__ _num_\\__iterations_ __do__<br>\n",
    "&emsp;&emsp;// Iterate over all tokens<br>\n",
    "&emsp;&emsp;for $i \\leftarrow 1$ __to__ $N$ __do__<br>\n",
    "&emsp;&emsp;&emsp;&emsp;// Remove current topic indicator $z_i$ from $\\mathbf{n}^{w}$, $\\mathbf{n}^{d}$ and $\\mathbf{n}$<br>\n",
    "&emsp;&emsp;&emsp;&emsp;$n^{(w)}_{z_i,w_i}$ -= 1, $n^{(d)}_{d_i,z_i}$ -= 1, $n_{z_i}$ -= 1<br>\n",
    "&emsp;&emsp;&emsp;&emsp;for $k \\leftarrow 1$ __to__ $K$ __do__<br>\n",
    "&emsp;&emsp;&emsp;&emsp;&emsp;&emsp;// Compute the unnormalized probability of each topic indicator<br>\n",
    "&emsp;&emsp;&emsp;&emsp;&emsp;&emsp;$\\mathbf{p}_k \\leftarrow \\left(\\alpha+n_{d,k}^{(d)}\\right)\\frac{\\left(\\beta+n_{k,w_{i}}^{(w)}\\right)}{\\left(V\\beta+n_{k}\\right)}$<br>\n",
    "&emsp;&emsp;&emsp;&emsp;__end__<br>\n",
    "&emsp;&emsp;&emsp;&emsp;// Sample the topic indicator<br>\n",
    "&emsp;&emsp;&emsp;&emsp;$z_i \\leftarrow $ Categorical($\\mathbf{p}$)<br>\n",
    "&emsp;&emsp;&emsp;&emsp;// Add the new topic indicator $z_i$ to $\\mathbf{n}^{w}$, $\\mathbf{n}^{d}$ and $\\mathbf{n}$<br>\n",
    "&emsp;&emsp;&emsp;&emsp;$n^{(w)}_{z_i,w_i}$ += 1, $n^{(d)}_{d_i,z_i}$ += 1, $n_{z_i}$ += 1<br>\n",
    "&emsp;&emsp;__end__<br>\n",
    "__end__"
   ]
  },
  {
   "cell_type": "markdown",
   "metadata": {},
   "source": [
    "For a complete derivation of the collapsed Gibbs sampler for LDA, see https://lingpipe.files.wordpress.com/2010/07/lda3.pdf."
   ]
  },
  {
   "cell_type": "code",
   "execution_count": 141,
   "metadata": {},
   "outputs": [],
   "source": [
    "import numpy, random, scipy.special\n",
    "from tm3 import LDAGibbs\n",
    "import matplotlib.pyplot as plt\n",
    "random.seed(12345)\n",
    "\n",
    "class MyGibbs(LDAGibbs):\n",
    "        \n",
    "    def __init__(self, num_topics, docs_file_name, stop_list_file_name = None):\n",
    "        self.num_topics = num_topics\n",
    "        self.num_docs = 0\n",
    "        self.docs = []\n",
    "        ## Prepare set of stop words\n",
    "        self.stop_words = set()\n",
    "        if stop_list_file_name != None:\n",
    "            with open(stop_list_file_name) as f:\n",
    "                for line in f:\n",
    "                    word = line.rstrip()\n",
    "                    self.stop_words.add(word)\n",
    "        self.read_documents(docs_file_name)\n",
    "        self.initialize_matrices()\n",
    "        self.total_tokens = sum(self.doc_totals)\n",
    "            \n",
    "    def read_documents(self, filename):\n",
    "        \"\"\"Reads documents from a file, filters stop words and initializes\n",
    "        the vocabulary. Also converts tokens to integer term IDs.\"\"\"\n",
    "        self.vocab = []\n",
    "        self.vocab_ids = {}\n",
    "        with open(filename) as f:\n",
    "            for line in f:\n",
    "                line = line.replace(\".\", \" \").replace(\",\", \" \").lower()\n",
    "                self.num_docs += 1\n",
    "                tokens = []\n",
    "                for w in line.split():\n",
    "                    if not w in self.stop_words:\n",
    "                        if w in self.vocab_ids:\n",
    "                            tokens.append(self.vocab_ids[w])\n",
    "                        else:\n",
    "                            term_id = len(self.vocab)\n",
    "                            self.vocab.append(w)\n",
    "                            self.vocab_ids[w] = term_id\n",
    "                            tokens.append(term_id)\n",
    "                self.docs.append({ 'tokens': tokens })\n",
    "        self.num_terms = len(self.vocab)\n",
    "        print(\"Read {} documents with a total of {} terms\".format(self.num_docs, self.num_terms))\n",
    "        \n",
    "    def initialize_matrices(self):\n",
    "        \"\"\"Initializes numpy arrays for the matrix computations performed\n",
    "        by the sampler during the MCMC process.\"\"\"\n",
    "        ## Set up numpy matrices\n",
    "        self.term_topics = numpy.zeros((self.num_terms, self.num_topics)) # n^w\n",
    "        self.doc_topics = numpy.zeros((self.num_docs, self.num_topics)) # n^d\n",
    "        self.topic_totals = numpy.zeros(self.num_topics) # n\n",
    "        self.doc_totals = numpy.zeros(self.num_docs)\n",
    "        ## Initialize topics randomly\n",
    "        for doc_id in range(self.num_docs):\n",
    "            doc = self.docs[doc_id]\n",
    "            ## Create an array of random topic assignments\n",
    "            doc['topics'] = [random.randrange(self.num_topics) for token in doc['tokens']]\n",
    "            ## Construct the initial summary statistics\n",
    "            doc_length = len(doc['tokens'])\n",
    "            for token, topic in zip(doc['tokens'], doc['topics']):\n",
    "                self.term_topics[token][topic] += 1 # n_wk\n",
    "                self.doc_topics[doc_id][topic] += 1 # n_dk\n",
    "                self.topic_totals[topic] += 1       # n_k\n",
    "                self.doc_totals[doc_id] += 1\n",
    "        ## Printout to check that everything is coherent\n",
    "        #print(sum(sum(self.doc_topics)))\n",
    "        #print(sum(sum(self.term_topics)))\n",
    "        #print(sum(self.topic_totals))\n",
    "        #print(sum(self.doc_totals))\n",
    "        \n",
    "    def run(self, num_iterations = 50, alpha = 0.1, beta = 0.01):\n",
    "        self.num_iterations = num_iterations\n",
    "        self.logprobs = []\n",
    "        for iteration in range(num_iterations):\n",
    "            self.make_draw(alpha, beta)\n",
    "            logprob = self.compute_logprob(alpha, beta)\n",
    "            self.logprobs.append(logprob)\n",
    "            print(\"iteration {}, {}\".format(iteration, logprob))\n",
    "            \n",
    "    def make_draw(self, alpha, beta):\n",
    "        ## TODO: implement this function for exercise 1\n",
    "        V = len(self.vocab)\n",
    "        for doc_id in range(self.num_docs):\n",
    "            doc = self.docs[doc_id]\n",
    "            #Some docs are empty:\n",
    "            if not doc['tokens'] or not doc['topics']:\n",
    "                continue     \n",
    "            prob_k = numpy.zeros(self.num_topics)\n",
    "            for j, (token, topic) in enumerate(zip(doc['tokens'], doc['topics'])):\n",
    "                self.term_topics[token][topic] -= 1 # n_wk\n",
    "                self.doc_topics[doc_id][topic] -= 1 # n_dk\n",
    "                self.topic_totals[topic]-= 1       # n_k\n",
    "                for topic2 in range(self.num_topics):\n",
    "                    ndk = max(0,self.doc_topics[doc_id][topic2])\n",
    "                    nkw = max(0,self.term_topics[token][topic2])\n",
    "                    nk = max(0,self.topic_totals[topic2])\n",
    "                    prob_k[topic2] = (alpha + ndk)*(beta + nkw)/(V*beta + nk)           \n",
    "                num = int(self.num_topics) \n",
    "                num = range(num)\n",
    "                prob_k = prob_k / sum(prob_k)\n",
    "                z = int(numpy.random.choice(a=num,size=1,p=prob_k))\n",
    "                self.term_topics[token][z] += 1 # n_wk\n",
    "                self.doc_topics[doc_id][z] += 1 # n_dk\n",
    "                self.topic_totals[z] += 1  \n",
    "                doc['topics'][j] = z\n",
    "                self.docs[doc_id] = doc\n",
    "        #return super().make_draw(alpha, beta)\n",
    "             \n",
    "    def print_topics(self, j):\n",
    "        ## TODO: implement this function for exercise 2\n",
    "        for topic in range(self.num_topics):\n",
    "            rows = self.term_topics[:,topic]\n",
    "            rows_sort = numpy.sort(rows)[::-1]\n",
    "            rows_ind = numpy.argsort(rows)[::-1]\n",
    "            mylist = []\n",
    "            for i in range(j):\n",
    "                mylist.append((self.vocab[rows_ind[i]],rows_sort[i]))\n",
    "            print(mylist)\n",
    "    \n",
    "    def plot(self):\n",
    "        ## TODO: implement this function for exercise 3\n",
    "        diff = 1\n",
    "        self.logprobs2 = [0,]\n",
    "        alpha = 0.1\n",
    "        beta = 0.01\n",
    "        while diff > 0.01:\n",
    "            self.make_draw(alpha, beta)\n",
    "            logprob = self.compute_logprob(alpha, beta)\n",
    "            self.logprobs2.append(logprob)\n",
    "            diff = abs(self.logprobs2[-1] - self.logprobs2[-2])\n",
    "        y=self.logprobs2[1:]\n",
    "        x=range(len(y))\n",
    "        print(\"Total iterations\", len(y))\n",
    "        plt.plot(x,y)\n",
    "        #super().plot()            \n",
    "    \n",
    "    def compute_logprob(self, alpha, beta):\n",
    "        ## TODO: implement this function for the bonus exercise\n",
    "        return super().compute_logprob(alpha, beta)"
   ]
  },
  {
   "cell_type": "markdown",
   "metadata": {},
   "source": [
    "Implement the `make_draw` function above. You should get behavior very similar to the results from calling the parent class."
   ]
  },
  {
   "cell_type": "code",
   "execution_count": 107,
   "metadata": {
    "scrolled": true
   },
   "outputs": [
    {
     "name": "stdout",
     "output_type": "stream",
     "text": [
      "Read 2898 documents with a total of 8695 terms\n",
      "iteration 0, -10.359618594956155\n",
      "iteration 1, -9.833492805490744\n",
      "iteration 2, -9.560908549202768\n",
      "iteration 3, -9.397649410032194\n",
      "iteration 4, -9.288233083942135\n",
      "iteration 5, -9.212635206574195\n",
      "iteration 6, -9.13430893135172\n",
      "iteration 7, -9.072955767514461\n",
      "iteration 8, -9.02530223279213\n",
      "iteration 9, -8.97607943048573\n"
     ]
    }
   ],
   "source": [
    "num_topics = 10\n",
    "num_iterations = 10\n",
    "\n",
    "model = MyGibbs(num_topics, 'sotu_1975_2000.txt', 'stoplist_en.txt')\n",
    "model.run(num_iterations)"
   ]
  },
  {
   "cell_type": "markdown",
   "metadata": {},
   "source": [
    "### 2. Top terms\n",
    "Implement the `print_topics` function to extract the top `j` largest counts in $n(w)$ by row. This is the most probable word types in each topic."
   ]
  },
  {
   "cell_type": "code",
   "execution_count": 142,
   "metadata": {},
   "outputs": [
    {
     "name": "stdout",
     "output_type": "stream",
     "text": [
      "[('world', 159.0), ('soviet', 153.0), ('states', 142.0), ('nuclear', 142.0), ('united', 124.0), ('peace', 121.0), ('forces', 115.0), ('nations', 110.0), ('military', 105.0), ('defense', 105.0)]\n",
      "[('federal', 182.0), ('government', 147.0), ('welfare', 136.0), ('congress', 111.0), ('programs', 110.0), ('work', 80.0), ('health', 78.0), ('years', 73.0), ('program', 72.0), ('year', 71.0)]\n",
      "[('congress', 218.0), ('president', 100.0), ('legislation', 66.0), ('year', 64.0), ('members', 59.0), ('mr', 57.0), ('reform', 48.0), ('speaker', 46.0), ('important', 45.0), ('reduce', 45.0)]\n",
      "[('energy', 183.0), ('administration', 87.0), ('oil', 86.0), ('national', 70.0), ('resources', 65.0), ('policy', 64.0), ('program', 63.0), ('past', 62.0), ('1980', 59.0), ('act', 55.0)]\n",
      "[('america', 124.0), ('american', 73.0), ('people', 69.0), ('trade', 68.0), ('work', 62.0), ('ve', 53.0), ('house', 51.0), ('tonight', 45.0), ('world', 43.0), ('united', 39.0)]\n",
      "[('world', 125.0), ('rights', 107.0), ('human', 96.0), ('progress', 74.0), ('economic', 74.0), ('nation', 60.0), ('freedom', 58.0), ('government', 54.0), ('peace', 53.0), ('continue', 48.0)]\n",
      "[('people', 103.0), ('government', 79.0), ('years', 78.0), ('year', 55.0), ('american', 54.0), ('space', 52.0), ('high', 48.0), ('security', 46.0), ('problems', 46.0), ('system', 43.0)]\n",
      "[('time', 91.0), ('america', 85.0), ('people', 82.0), ('women', 81.0), ('american', 76.0), ('security', 73.0), ('today', 63.0), ('americans', 61.0), ('work', 60.0), ('national', 53.0)]\n",
      "[('america', 319.0), ('people', 245.0), ('children', 154.0), ('world', 146.0), ('tonight', 136.0), ('country', 126.0), ('american', 124.0), ('americans', 113.0), ('work', 113.0), ('make', 92.0)]\n",
      "[('tax', 224.0), ('budget', 216.0), ('year', 192.0), ('years', 141.0), ('jobs', 128.0), ('spending', 118.0), ('health', 115.0), ('percent', 114.0), ('million', 114.0), ('inflation', 111.0)]\n"
     ]
    }
   ],
   "source": [
    "model.print_topics(10)"
   ]
  },
  {
   "cell_type": "markdown",
   "metadata": {},
   "source": [
    "### 3. Explore the data\n",
    "\n",
    "Run your implemention on the State of the Union corpus until convergence with 10 topics, don't forget to remove stop words. Plot the log marginal posterior by the number of iterations. How many iterations do you need until convergence? How do you interpret the topics?\n",
    "\n",
    "[Hint: You can use the plot-function to print the marginal probability for each iteration. To get it working in Jupyter you need to run the command `%matplotlib inline` before plotting the first time.]"
   ]
  },
  {
   "cell_type": "code",
   "execution_count": 109,
   "metadata": {},
   "outputs": [
    {
     "name": "stdout",
     "output_type": "stream",
     "text": [
      "Read 2898 documents with a total of 8695 terms\n",
      "Total iterations 27\n"
     ]
    },
    {
     "data": {
      "image/png": "[encoded data removed]",
      "text/plain": [
       "<matplotlib.figure.Figure at 0x7f27997c57f0>"
      ]
     },
     "metadata": {},
     "output_type": "display_data"
    }
   ],
   "source": [
    "%matplotlib inline\n",
    "num_topics = 10\n",
    "#num_iterations = 5\n",
    "\n",
    "model = MyGibbs(num_topics, 'sotu_1975_2000.txt', 'stoplist_en.txt')\n",
    "model.plot()"
   ]
  },
  {
   "cell_type": "code",
   "execution_count": 110,
   "metadata": {},
   "outputs": [
    {
     "name": "stdout",
     "output_type": "stream",
     "text": [
      "[('world', 159.0), ('soviet', 153.0), ('states', 142.0), ('nuclear', 142.0), ('united', 124.0), ('peace', 121.0), ('forces', 115.0), ('nations', 110.0), ('military', 105.0), ('defense', 105.0)]\n",
      "[('federal', 182.0), ('government', 147.0), ('welfare', 136.0), ('congress', 111.0), ('programs', 110.0), ('work', 80.0), ('health', 78.0), ('years', 73.0), ('program', 72.0), ('year', 71.0)]\n",
      "[('congress', 218.0), ('president', 100.0), ('legislation', 66.0), ('year', 64.0), ('members', 59.0), ('mr', 57.0), ('reform', 48.0), ('speaker', 46.0), ('important', 45.0), ('reduce', 45.0)]\n",
      "[('energy', 183.0), ('administration', 87.0), ('oil', 86.0), ('national', 70.0), ('resources', 65.0), ('policy', 64.0), ('program', 63.0), ('past', 62.0), ('1980', 59.0), ('act', 55.0)]\n",
      "[('america', 124.0), ('american', 73.0), ('people', 69.0), ('trade', 68.0), ('work', 62.0), ('ve', 53.0), ('house', 51.0), ('tonight', 45.0), ('world', 43.0), ('united', 39.0)]\n",
      "[('world', 125.0), ('rights', 107.0), ('human', 96.0), ('progress', 74.0), ('economic', 74.0), ('nation', 60.0), ('freedom', 58.0), ('government', 54.0), ('peace', 53.0), ('continue', 48.0)]\n",
      "[('people', 103.0), ('government', 79.0), ('years', 78.0), ('year', 55.0), ('american', 54.0), ('space', 52.0), ('high', 48.0), ('security', 46.0), ('problems', 46.0), ('system', 43.0)]\n",
      "[('time', 91.0), ('america', 85.0), ('people', 82.0), ('women', 81.0), ('american', 76.0), ('security', 73.0), ('today', 63.0), ('americans', 61.0), ('work', 60.0), ('national', 53.0)]\n",
      "[('america', 319.0), ('people', 245.0), ('children', 154.0), ('world', 146.0), ('tonight', 136.0), ('country', 126.0), ('american', 124.0), ('americans', 113.0), ('work', 113.0), ('make', 92.0)]\n",
      "[('tax', 224.0), ('budget', 216.0), ('year', 192.0), ('years', 141.0), ('jobs', 128.0), ('spending', 118.0), ('health', 115.0), ('percent', 114.0), ('million', 114.0), ('inflation', 111.0)]\n"
     ]
    }
   ],
   "source": [
    "model.print_topics(10)"
   ]
  },
  {
   "cell_type": "markdown",
   "metadata": {},
   "source": [
    "#### Answer here:\n",
    "\n",
    "We chose a criterion for measuring the loglikelihood convergence to be the difference of loglikelihoods between consecutive iterations. More percisely, this difference should be below 0.01. It took 27 iterations to reach it.\n",
    "\n",
    "From the words that belong to each topic, we decided that topics could be:\n",
    "1.  Cold war\n",
    "1.  American welfare\n",
    "1.  American politics\n",
    "1.  Energy policy\n",
    "1.  Something related to the USA\n",
    "1.  Human rights\n",
    "1.  Security\n",
    "1.  American work policy\n",
    "1.  American people\n",
    "1.  Government budget"
   ]
  },
  {
   "cell_type": "markdown",
   "metadata": {},
   "source": [
    "### 4. Simulate a new State of the Union speech\n",
    "\n",
    "Write a function `new_speech` using the `MyGibbs` class to use the estimated values for $\\Phi$ from your model (with stop words removed) to simulate a new State of the Union speech. Start out by simulating $\\theta_d \\sim Dir(\\alpha = 0.5)$ and then simulate your document. Does it make sense? Why, why not?"
   ]
  },
  {
   "cell_type": "code",
   "execution_count": 137,
   "metadata": {},
   "outputs": [],
   "source": [
    "def new_speech(model, alpha, num_words):\n",
    "    speech = []\n",
    "    theta_d = numpy.random.dirichlet(numpy.repeat(alpha, model.num_topics))\n",
    "    for i in range(num_words):\n",
    "        topic = numpy.random.choice(a=model.num_topics,size=1,p=theta_d)\n",
    "        token_prob = model.term_topics[:,topic]\n",
    "        prob = token_prob/sum(token_prob)\n",
    "        prob = [val for sublist in prob for val in sublist]\n",
    "        word = numpy.random.choice(a=len(model.vocab),size=1,p=prob)\n",
    "        speech.append(model.vocab[int(word)])\n",
    "    return \" \".join(speech)"
   ]
  },
  {
   "cell_type": "code",
   "execution_count": 140,
   "metadata": {},
   "outputs": [
    {
     "data": {
      "text/plain": [
       "'children europe understand allies absolute program haiti seek arms education peace sense realism program defense missions rule sinful vital effectively reflects support possessed america presence terrorism legislation ability economy trade relating continue harry effort step aided pledges treaty aggressively national long long long economic soviet allies harness leadership fled hemisphere mine mission soviet nations entire requires truman process seeking east standing subjugate american time administration economic bought starkest allies emphasize war era reducing weak dream program forging department achieved helped attempt town peace nuclear age nation peace businesses educate program gulf towns resilient force winning vital painful positive message years'"
      ]
     },
     "execution_count": 140,
     "metadata": {},
     "output_type": "execute_result"
    }
   ],
   "source": [
    "new_speech(model, 0.5, 100)"
   ]
  },
  {
   "cell_type": "markdown",
   "metadata": {},
   "source": [
    "#### Answer here:\n",
    "\n",
    "The speech does not make sense because we do not have stopwords and it is difficult to make a reasonable text without them. We also don't use any information about what the previous word(s) or topic were. Hence, the context is not taken into consideration when generating the speech. "
   ]
  },
  {
   "cell_type": "markdown",
   "metadata": {},
   "source": [
    "### Bonus assignment:\n",
    "\n",
    "To get better understanding how to implement the underlying model or similar models, you might want to implement your own function to compute the log marginal posterior. If so, implement the `compute_logprob` function.\n",
    "\n",
    "$$\\begin{align}\n",
    "\\log p(\\mathbf{z}|\\mathbf{w}) =& \\log\\prod^{K}p(\\mathbf{w}|\\mathbf{z},\\beta)\\prod^{D}p(\\mathbf{z}|\\alpha) \\\\\n",
    "=& \\sum^{K}\\log\\left[\\frac{\\Gamma\\left(\\sum^{V}\\beta\\right)}{\\prod^{V}\\Gamma\\left(\\beta\\right)}\\frac{\\prod^{V}\\Gamma\\left(n_{kv}^{(w)}+\\beta\\right)}{\\Gamma(\\sum^{V}n_{kv}^{(w)}+\\beta)}\\right]+\\sum^{D}\\log\\left[\\frac{\\Gamma\\left(\\sum^{K}\\alpha\\right)}{\\prod^{K}\\Gamma\\left(\\alpha\\right)}\\frac{\\prod^{K}\\Gamma\\left(n_{dk}^{(d)}+\\alpha\\right)}{\\Gamma(\\sum^{K}n_{dk}^{(d)}+\\alpha)}\\right] \\\\\n",
    "=& K\\log\\Gamma\\left(V\\beta\\right)-KV\\log\\Gamma\\left(\\beta\\right)+\\sum^{K}\\sum^{V}\\log\\Gamma\\left(n_{kv}^{(w)}+\\beta\\right)-\\sum^{K}\\log\\Gamma(\\sum^{V}n_{kv}^{(w)}+\\beta)\\\\\n",
    "&+ D\\log\\Gamma\\left(K\\alpha\\right)-DK\\log\\Gamma\\left(\\alpha\\right)+\\sum^{D}\\sum^{K}\\log\\Gamma\\left(n_{dk}^{(d)}+\\alpha\\right)-\\sum^{D}\\log\\Gamma(\\sum^{K}n_{dk}^{(d)}+\\alpha)\n",
    "\\end{align}$$\n",
    "\n",
    "In Python, use `scipy.special.gammaln` for $\\log\\Gamma(x)$ (if you run into problems, you might try `math.lgamma` instead)."
   ]
  }
 ],
 "metadata": {
  "kernelspec": {
   "display_name": "Python 3",
   "language": "python",
   "name": "python3"
  },
  "language_info": {
   "codemirror_mode": {
    "name": "ipython",
    "version": 3
   },
   "file_extension": ".py",
   "mimetype": "text/x-python",
   "name": "python",
   "nbconvert_exporter": "python",
   "pygments_lexer": "ipython3",
   "version": "3.4.3"
  },
  "latex_envs": {
   "bibliofile": "biblio.bib",
   "cite_by": "apalike",
   "current_citInitial": 1,
   "eqLabelWithNumbers": true,
   "eqNumInitial": 0
  }
 },
 "nbformat": 4,
 "nbformat_minor": 2
}
